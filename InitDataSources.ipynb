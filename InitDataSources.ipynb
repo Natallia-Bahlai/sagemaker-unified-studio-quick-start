{
 "cells": [
  {
   "cell_type": "code",
   "execution_count": null,
   "id": "1d6bc948-a4e2-4d42-9a1b-b28070deeb88",
   "metadata": {
    "tags": []
   },
   "outputs": [],
   "source": [
    "pip install psycopg2"
   ]
  },
  {
   "cell_type": "code",
   "execution_count": null,
   "id": "07005da3-7fa0-419c-9df3-7924cd926a58",
   "metadata": {
    "tags": []
   },
   "outputs": [],
   "source": [
    "import psycopg2\n",
    "\n",
    "# Connect to database\n",
    "conn = psycopg2.connect(\n",
    "    user='postgres',\n",
    "    dbname='postgres',\n",
    "    password='e8?NbW04<bU.slwnW#V1l6i.ACZZ',\n",
    "    host='demo-cluster.cluster-ce1ecq2wsf1v.us-east-1.rds.amazonaws.com',\n",
    "    port='5432'\n",
    ")\n",
    "\n",
    "# Set autocommit for DDL statements\n",
    "conn.autocommit = True\n",
    "cur = conn.cursor()\n",
    "\n",
    "sql_statements = []\n",
    "with open('./sql/aurorapg.sql', 'r') as file:\n",
    "    # Split on semicolons but ignore empty statements\n",
    "    sql_statements = [stmt.strip() for stmt in file.read().split(';') if stmt.strip()]\n",
    "\n",
    "# Execute each statement\n",
    "for sql in sql_statements:\n",
    "    print(f\"Executing SQL: {sql}\")\n",
    "    cur.execute(sql)\n",
    "\n",
    "# Clean up\n",
    "cur.close()\n",
    "conn.close()"
   ]
  },
  {
   "cell_type": "code",
   "execution_count": null,
   "id": "631f6eb3-aeec-4ed6-828a-dba4e919d20f",
   "metadata": {
    "tags": []
   },
   "outputs": [],
   "source": [
    "import boto3\n",
    "\n",
    "# Initialize DynamoDB client\n",
    "dynamodb = boto3.resource('dynamodb')\n",
    "\n",
    "table_name = 'invoices'\n",
    "print(f'Starting to seed table: {table_name}')\n",
    "table = dynamodb.Table(table_name)\n",
    "\n",
    "# Items to add\n",
    "items = [\n",
    "    {'customer_id': '1', 'invoice_number': 'INV-001', 'total': '200'},\n",
    "    {'customer_id': '2', 'invoice_number': 'INV-002', 'total': '200'},\n",
    "    {'customer_id': '3', 'invoice_number': 'INV-003', 'total': '200'},\n",
    "    {'customer_id': '4', 'invoice_number': 'INV-004', 'total': '200'},\n",
    "    {'customer_id': '6', 'invoice_number': 'INV-005', 'total': '200'}\n",
    "]\n",
    "\n",
    "# Use batch_writer for better performance\n",
    "with table.batch_writer() as batch:\n",
    "    for item in items:\n",
    "        batch.put_item(Item=item)\n",
    "        print(f'Added item with customer_id: {item[\"customer_id\"]}')"
   ]
  }
 ],
 "metadata": {
  "kernelspec": {
   "display_name": "conda_python3",
   "language": "python",
   "name": "conda_python3"
  },
  "language_info": {
   "codemirror_mode": {
    "name": "ipython",
    "version": 3
   },
   "file_extension": ".py",
   "mimetype": "text/x-python",
   "name": "python",
   "nbconvert_exporter": "python",
   "pygments_lexer": "ipython3",
   "version": "3.10.16"
  }
 },
 "nbformat": 4,
 "nbformat_minor": 5
}
