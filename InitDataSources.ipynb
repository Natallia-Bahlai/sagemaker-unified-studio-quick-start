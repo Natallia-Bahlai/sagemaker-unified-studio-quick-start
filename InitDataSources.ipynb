{
 "cells": [
  {
   "cell_type": "markdown",
   "id": "1232c32c-fde4-4e8d-ae1f-e276b5486c88",
   "metadata": {},
   "source": [
    "# Demo Data Model\n",
    "\n",
    "![Demo Data Model](visuals/DemoDataModel.png)"
   ]
  },
  {
   "cell_type": "markdown",
   "id": "4caa4462-0cb8-4164-85f1-225596f3b233",
   "metadata": {},
   "source": [
    "# Populate Customer Data in Amazon Aurora PostgreSQL"
   ]
  },
  {
   "cell_type": "code",
   "execution_count": null,
   "id": "1d6bc948-a4e2-4d42-9a1b-b28070deeb88",
   "metadata": {
    "tags": []
   },
   "outputs": [],
   "source": [
    "#pip install psycopg2"
   ]
  },
  {
   "cell_type": "code",
   "execution_count": null,
   "id": "bdd444de-795e-4761-a81c-81dd6cbb3dcd",
   "metadata": {
    "tags": []
   },
   "outputs": [],
   "source": [
    "import os\n",
    "PG_HOST = os.environ.get(\"PG_HOST\")\n",
    "PG_SECRET_ARN = os.environ.get(\"PG_SECRET_ARN\")\n",
    "print(PG_SECRET_ARN)"
   ]
  },
  {
   "cell_type": "code",
   "execution_count": null,
   "id": "e7b74993-3e8c-43cf-8967-b49953deee34",
   "metadata": {
    "tags": []
   },
   "outputs": [],
   "source": [
    "import boto3\n",
    "import json\n",
    "\n",
    "client = boto3.client('secretsmanager')\n",
    "response = client.get_secret_value(SecretId=PG_SECRET_ARN)\n",
    "database_secrets = json.loads(response['SecretString'])\n",
    "pwd = database_secrets['password']"
   ]
  },
  {
   "cell_type": "code",
   "execution_count": null,
   "id": "07005da3-7fa0-419c-9df3-7924cd926a58",
   "metadata": {
    "tags": []
   },
   "outputs": [],
   "source": [
    "import psycopg2\n",
    "\n",
    "# Connect to database\n",
    "conn = psycopg2.connect(\n",
    "    user='postgres',\n",
    "    dbname='postgres',\n",
    "    password=pwd,\n",
    "    host=PG_HOST, #'demo-cluster.cluster-{id}.{region}.rds.amazonaws.com'\n",
    "    port='5432'\n",
    ")\n",
    "\n",
    "# Set autocommit for DDL statements\n",
    "conn.autocommit = True\n",
    "cur = conn.cursor()\n",
    "\n",
    "sql_statements = []\n",
    "with open('./sql/aurorapg.sql', 'r') as file:\n",
    "    # Split on semicolons but ignore empty statements\n",
    "    sql_statements = [stmt.strip() for stmt in file.read().split(';') if stmt.strip()]\n",
    "\n",
    "# Execute each statement\n",
    "for sql in sql_statements:\n",
    "    print(f\"Executing SQL: {sql}\")\n",
    "    cur.execute(sql)\n",
    "\n",
    "# Clean up\n",
    "cur.close()\n",
    "conn.close()"
   ]
  },
  {
   "cell_type": "markdown",
   "id": "4f68d90c-5408-4d53-bac1-53d6b07298c8",
   "metadata": {},
   "source": [
    "# Generate Financial Data (invoices) in Amazon DynamoDB "
   ]
  },
  {
   "cell_type": "code",
   "execution_count": null,
   "id": "631f6eb3-aeec-4ed6-828a-dba4e919d20f",
   "metadata": {
    "tags": []
   },
   "outputs": [],
   "source": [
    "import boto3\n",
    "import secrets\n",
    "\n",
    "# Initialize DynamoDB client\n",
    "dynamodb = boto3.resource('dynamodb')\n",
    "\n",
    "table_name = 'invoices'\n",
    "table = dynamodb.Table(table_name)\n",
    "\n",
    "# Items to add\n",
    "items = []\n",
    "for i in range(1, 101):\n",
    "    # Generate random within a range (10248, 11077)\n",
    "    range_size = 11077 - 10248 + 1\n",
    "    order_id = 10248 + secrets.randbelow(range_size)\n",
    "\n",
    "    # Generate random invoice number (1000, 9999)\n",
    "    random_num = secrets.randbelow(1000000)  # Adjust the range as needed\n",
    "    invoice_number = f\"INV_{random_num}\"\n",
    "\n",
    "    # Generate random total between 100 and 10000\n",
    "    range_size_total = 10000 - 100 + 1\n",
    "    total = 100 + secrets.randbelow(range_size_total)\n",
    "\n",
    "    # For status\n",
    "    statuses = ['DRAFT', 'SUBMITTED', 'AUTHORISED', 'PAID', 'VOIDED']\n",
    "    status = statuses[secrets.randbelow(len(statuses))]\n",
    "\n",
    "    # Create and append the item\n",
    "    items.append({\n",
    "        'order_id': order_id,\n",
    "        'invoice_number': invoice_number,\n",
    "        'status': status,\n",
    "        'total': total\n",
    "    })\n",
    "\n",
    "# Use batch_writer for better performance\n",
    "with table.batch_writer() as batch:\n",
    "    for item in items:\n",
    "        batch.put_item(Item=item)\n",
    "        print(f'Added item: {item}')"
   ]
  }
 ],
 "metadata": {
  "kernelspec": {
   "display_name": "conda_python3",
   "language": "python",
   "name": "conda_python3"
  },
  "language_info": {
   "codemirror_mode": {
    "name": "ipython",
    "version": 3
   },
   "file_extension": ".py",
   "mimetype": "text/x-python",
   "name": "python",
   "nbconvert_exporter": "python",
   "pygments_lexer": "ipython3",
   "version": "3.10.16"
  }
 },
 "nbformat": 4,
 "nbformat_minor": 5
}
