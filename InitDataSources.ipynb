{
 "cells": [
  {
   "cell_type": "code",
   "execution_count": null,
   "id": "1d6bc948-a4e2-4d42-9a1b-b28070deeb88",
   "metadata": {
    "tags": []
   },
   "outputs": [],
   "source": [
    "#pip install psycopg2"
   ]
  },
  {
   "cell_type": "code",
   "execution_count": null,
   "id": "bdd444de-795e-4761-a81c-81dd6cbb3dcd",
   "metadata": {
    "tags": []
   },
   "outputs": [],
   "source": [
    "import os\n",
    "PG_HOST = os.environ.get(\"PG_HOST\")\n",
    "PG_SECRET_ARN = os.environ.get(\"PG_SECRET_ARN\")\n",
    "PG_PWD = os.environ.get(\"PG_PWD\")\n",
    "#print(PG_PWD)"
   ]
  },
  {
   "cell_type": "code",
   "execution_count": null,
   "id": "07005da3-7fa0-419c-9df3-7924cd926a58",
   "metadata": {
    "tags": []
   },
   "outputs": [],
   "source": [
    "import psycopg2\n",
    "\n",
    "# Connect to database\n",
    "conn = psycopg2.connect(\n",
    "    user='postgres',\n",
    "    dbname='postgres',\n",
    "    password='CUOVemiYGnxq?Qsjugn[?Go)(*2A',#PG_PWD,\n",
    "    host=PG_HOST, #'demo-cluster.cluster-{id}.{region}.rds.amazonaws.com'\n",
    "    port='5432'\n",
    ")\n",
    "\n",
    "# Set autocommit for DDL statements\n",
    "conn.autocommit = True\n",
    "cur = conn.cursor()\n",
    "\n",
    "sql_statements = []\n",
    "with open('./sql/aurorapg.sql', 'r') as file:\n",
    "    # Split on semicolons but ignore empty statements\n",
    "    sql_statements = [stmt.strip() for stmt in file.read().split(';') if stmt.strip()]\n",
    "\n",
    "# Execute each statement\n",
    "for sql in sql_statements:\n",
    "    print(f\"Executing SQL: {sql}\")\n",
    "    cur.execute(sql)\n",
    "\n",
    "# Clean up\n",
    "cur.close()\n",
    "conn.close()"
   ]
  },
  {
   "cell_type": "code",
   "execution_count": null,
   "id": "631f6eb3-aeec-4ed6-828a-dba4e919d20f",
   "metadata": {
    "tags": []
   },
   "outputs": [],
   "source": [
    "import boto3\n",
    "import random\n",
    "\n",
    "# Initialize DynamoDB client\n",
    "dynamodb = boto3.resource('dynamodb')\n",
    "\n",
    "table_name = 'invoices'\n",
    "table = dynamodb.Table(table_name)\n",
    "\n",
    "# Items to add\n",
    "items = []\n",
    "for i in range(1, 50):\n",
    "    # Generate random invoice number\n",
    "    random_num = random.randint(1000, 9999)\n",
    "    invoice_number = f\"INV_{random_num}\"\n",
    "\n",
    "    # Generate random total between 100 and 1000\n",
    "    total = random.randint(100, 1000)\n",
    "\n",
    "    # Create and append the item\n",
    "    items.append({\n",
    "        'customer_id': i,\n",
    "        'invoice_number': invoice_number,\n",
    "        'total': total\n",
    "    })\n",
    "\n",
    "# Use batch_writer for better performance\n",
    "with table.batch_writer() as batch:\n",
    "    for item in items:\n",
    "        batch.put_item(Item=item)\n",
    "        #print(f'Added item with customer_id: {item}')"
   ]
  }
 ],
 "metadata": {
  "kernelspec": {
   "display_name": "conda_python3",
   "language": "python",
   "name": "conda_python3"
  },
  "language_info": {
   "codemirror_mode": {
    "name": "ipython",
    "version": 3
   },
   "file_extension": ".py",
   "mimetype": "text/x-python",
   "name": "python",
   "nbconvert_exporter": "python",
   "pygments_lexer": "ipython3",
   "version": "3.10.16"
  }
 },
 "nbformat": 4,
 "nbformat_minor": 5
}
